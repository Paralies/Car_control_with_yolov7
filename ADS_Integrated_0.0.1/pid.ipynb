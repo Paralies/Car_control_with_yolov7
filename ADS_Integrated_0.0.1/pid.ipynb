{
 "cells": [
  {
   "cell_type": "code",
   "execution_count": 3,
   "id": "6908b3ce",
   "metadata": {},
   "outputs": [
    {
     "name": "stdout",
     "output_type": "stream",
     "text": [
      "10\n"
     ]
    }
   ],
   "source": [
    "import time\n",
    "\n",
    "class PID:\n",
    "    def __init__(self, kp, ki, kd):\n",
    "        #PID Gain값\n",
    "        self.kp = kp\n",
    "        self.ki = ki\n",
    "        self.kd = kd\n",
    "        \n",
    "        self.previousTime = 0\n",
    "        self.lastError = 0\n",
    "        self.cumError = 0\n",
    "        #self.previousTIme = time.time()\n",
    " \n",
    "    def computePID(self, error): \n",
    "        #현재 시간 가져오기\n",
    "        currentTime = time.time()\n",
    "        #이전 분기와의 시간차 구하기(미분 위함)\n",
    "        if self.previousTime != 0:\n",
    "            elapsedTime = currentTime - self.previousTime\n",
    "        else:\n",
    "            self.previousTIme = time.time()\n",
    "            elapsedTime = 0\n",
    "        #적분 계산(오차값 x 시간)\n",
    "        self.cumError += error * elapsedTime\n",
    "        #미분 계산(기울기 계산)\n",
    "        if elapsedTime != 0:\n",
    "            rateError = (error - self.lastError) / elapsedTime\n",
    "        else:\n",
    "            rateError = 0\n",
    "        #PID 합산\n",
    "        out = self.kp * error + self.ki * self.cumError + self.kd * rateError\n",
    "        #오차값 저장\n",
    "        self.lastError = error\n",
    "        #현재 분기 시간 저장\n",
    "        self.previousTime = currentTime\n",
    "        #계산값 리턴\n",
    "        return out\n",
    "    \n",
    "#test code\n",
    "if __name__ == '__main__':\n",
    "    ex_pid = PID(1, 1, 1)\n",
    "    print(ex_pid.computePID(10))"
   ]
  },
  {
   "cell_type": "code",
   "execution_count": null,
   "id": "2a2329d8",
   "metadata": {},
   "outputs": [],
   "source": []
  }
 ],
 "metadata": {
  "kernelspec": {
   "display_name": "Python 3 (ipykernel)",
   "language": "python",
   "name": "python3"
  },
  "language_info": {
   "codemirror_mode": {
    "name": "ipython",
    "version": 3
   },
   "file_extension": ".py",
   "mimetype": "text/x-python",
   "name": "python",
   "nbconvert_exporter": "python",
   "pygments_lexer": "ipython3",
   "version": "3.10.8"
  }
 },
 "nbformat": 4,
 "nbformat_minor": 5
}
